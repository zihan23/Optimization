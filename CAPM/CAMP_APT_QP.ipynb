{
 "cells": [
  {
   "cell_type": "code",
   "execution_count": 164,
   "metadata": {},
   "outputs": [],
   "source": [
    "%matplotlib inline\n",
    "import numpy as np\n",
    "import matplotlib.pyplot as plt\n",
    "import cvxopt as opt\n",
    "from cvxopt import blas, solvers\n",
    "import pandas as pd\n",
    "import fix_yahoo_finance as yf  \n",
    "from scipy import stats\n",
    "from bs4 import BeautifulSoup\n",
    "import requests"
   ]
  },
  {
   "cell_type": "code",
   "execution_count": 165,
   "metadata": {},
   "outputs": [],
   "source": [
    "df1 = pd.read_excel('TOP50_5Y_2.xlsx',sheetname='CLOSE_1D')\n",
    "df1 = df1.set_index('Date')\n",
    "Rf = df1['risk_free']/100/253"
   ]
  },
  {
   "cell_type": "code",
   "execution_count": 166,
   "metadata": {},
   "outputs": [],
   "source": [
    " #created a dataframe without risk"
   ]
  },
  {
   "cell_type": "code",
   "execution_count": 167,
   "metadata": {},
   "outputs": [],
   "source": [
    "#calculate the returns for each stock\n",
    "df2 = df1[df1.columns[:-1]]\n",
    "tiker = df2.columns\n",
    "returns = df2[tiker]/df2[tiker].shift(1)-1\n",
    "#return2 = df1[tiker][:-1] / df1[tiker][1:].values - 1\n",
    "returns = returns.dropna() #returns with Sp500\n",
    "stock_returns = returns[returns.columns[:-1]].values #delete the column with s&p500"
   ]
  },
  {
   "cell_type": "code",
   "execution_count": 168,
   "metadata": {},
   "outputs": [],
   "source": [
    "#first way to get beta: use covariance matrix\n",
    "Y = returns['Sp500']\n",
    "ticker_50=df1.columns[0:-2]\n",
    "df_beta = pd.DataFrame(index=ticker_50, columns=['beta'])\n",
    "for i in ticker_50:\n",
    "    x = returns[i]\n",
    "    cov_sm = np.cov(Y,x)[0,1]\n",
    "    var_m = np.var(Y)\n",
    "    Beta = cov_sm/var_m\n",
    "    df_beta.loc[i] = pd.Series({'beta':Beta})"
   ]
  },
  {
   "cell_type": "code",
   "execution_count": 169,
   "metadata": {},
   "outputs": [],
   "source": [
    "# #second way to get beta directly from yahooh finance\n",
    "# tags = list()\n",
    "# for i in ticker_50:\n",
    "#     i = i.split()[0]\n",
    "#     url = f'https://finance.yahoo.com/quote/{i}?p={i}'\n",
    "#     response = requests.get(url)\n",
    "#     results_page = BeautifulSoup(response.content,'lxml')\n",
    "#     tag = results_page.find('td', {'data-test':'BETA_3Y-value'})\n",
    "#     if len(tag) == 0 :\n",
    "#         print(i)\n",
    "#         tags.append(np.nan)\n",
    "#     else:\n",
    "#         tags.append(float(tag.get_text()))   "
   ]
  },
  {
   "cell_type": "code",
   "execution_count": 170,
   "metadata": {},
   "outputs": [],
   "source": [
    "# #calculate the beta difference\n",
    "# df_beta['yahoo_beta'] = tags\n",
    "# df_beta['beta_diff'] = df_beta['beta']-df_beta['yahoo_beta']\n",
    "# #the difference is acceptable, so we use the beta calculated by ourselves"
   ]
  },
  {
   "cell_type": "markdown",
   "metadata": {},
   "source": [
    "# Using CAPM models for expected returns"
   ]
  },
  {
   "cell_type": "code",
   "execution_count": 171,
   "metadata": {},
   "outputs": [],
   "source": [
    "# calculate the E(Ri) according to CAPM\n",
    "# firstly, calculate the daily risk free rate\n",
    "#secondly calculate returns for each stock\n",
    "for i in returns.index:\n",
    "    column_name = str(i)[:10]\n",
    "    df_beta[column_name] = Rf[i] + df_beta['beta']*(Y[i]-Rf[i])\n",
    "df_beta1 = df_beta.drop(['beta'], axis=1)\n",
    "df_expected_return = df_beta1.T\n",
    "return_mean = np.array([np.mean(df_expected_return).values])\n",
    "return_mean = return_mean.T #calculate the expected return"
   ]
  },
  {
   "cell_type": "code",
   "execution_count": 172,
   "metadata": {},
   "outputs": [
    {
     "name": "stdout",
     "output_type": "stream",
     "text": [
      "0.0005442806456960392\n",
      "0.00022703836957953678\n"
     ]
    }
   ],
   "source": [
    "print(np.max(return_mean))\n",
    "print(np.min(return_mean))\n",
    "#from this you could see that the biggest mean return is 0.0005761508320003633\n",
    "#so when solving the qp, we should make the risk free rate go from 0.0002"
   ]
  },
  {
   "cell_type": "code",
   "execution_count": 173,
   "metadata": {},
   "outputs": [
    {
     "name": "stdout",
     "output_type": "stream",
     "text": [
      "[-4.32e-04 -3.29e-04 -3.99e-04 -4.26e-04 -4.41e-04 -3.98e-04 -2.74e-04 ... ]\n",
      "\n"
     ]
    },
    {
     "data": {
      "text/plain": [
       "[<matplotlib.lines.Line2D at 0x13abb1780>]"
      ]
     },
     "execution_count": 173,
     "metadata": {},
     "output_type": "execute_result"
    },
    {
     "data": {
      "image/png": "[encoded data removed]",
      "text/plain": [
       "<Figure size 432x288 with 1 Axes>"
      ]
     },
     "metadata": {
      "needs_background": "light"
     },
     "output_type": "display_data"
    }
   ],
   "source": [
    "#first situation, short allowed, no risk-free assets\n",
    "#sloving by optimize changing Rp\n",
    "returns = np.asmatrix(stock_returns).T\n",
    "cov = np.cov(returns)\n",
    "P = opt.matrix(cov)\n",
    "n = 50\n",
    "avg_ret = return_mean\n",
    "r_min = 0.0002\n",
    "mus = []\n",
    "for i in range(100):\n",
    "    r_min += 0.00001\n",
    "    mus.append(r_min)\n",
    "G = opt.matrix(-(np.array(avg_ret))).T\n",
    "print(G)\n",
    "q = opt.matrix(np.zeros((n, 1)))\n",
    "\n",
    "#h = opt.matrix(np.concatenate((-np.ones((1,1))*0.02,np.zeros((n,1))), 0))\n",
    "A = opt.matrix(1.0, (1,n))\n",
    "b = opt.matrix(1.0)\n",
    "opt.solvers.options['show_progress'] = False\n",
    "portfolio_weights = [solvers.qp(P, q, G,\n",
    "                                opt.matrix(-np.ones((1,1))*yy), \n",
    "                                A, b)['x'] for yy in mus]\n",
    "portfolio_returns = [(np.matrix(x).T * avg_ret)[0,0] for x in portfolio_weights]\n",
    "portfolio_stdvs = [np.sqrt(np.matrix(x).T * cov.T.dot(np.matrix(x)))[0,0] for x in portfolio_weights]\n",
    "plt.ylabel('mean')\n",
    "plt.xlabel('std')\n",
    "plt.plot(np.sort(portfolio_stdvs)[:40]*253, np.sort(portfolio_returns)[:40]*253, 'y-o')\n",
    "x1 = np.linspace(0,0.02,1000)\n",
    "slope1 = 0.03274562 #calculated in later part\n",
    "Rf_mean= np.mean(Rf)\n",
    "y1 = x1*slope1+Rf_mean\n",
    "x1 = [i*253 for i in x1]\n",
    "y1 = [i*253 for i in y1]\n",
    "#which is calculated in the part below, put it here to draw the two pictures together\n",
    "plt.ylabel('mean')\n",
    "plt.xlabel('std')\n",
    "plt.plot(x1,y1)"
   ]
  },
  {
   "cell_type": "code",
   "execution_count": 175,
   "metadata": {},
   "outputs": [
    {
     "name": "stdout",
     "output_type": "stream",
     "text": [
      "[-4.32e-04 -3.29e-04 -3.99e-04 -4.26e-04 -4.41e-04 -3.98e-04 -2.74e-04 ... ]\n",
      "\n"
     ]
    },
    {
     "data": {
      "text/plain": [
       "<matplotlib.legend.Legend at 0x13a9adc50>"
      ]
     },
     "execution_count": 175,
     "metadata": {},
     "output_type": "execute_result"
    },
    {
     "data": {
      "image/png": "[encoded data removed]",
      "text/plain": [
       "<Figure size 432x288 with 1 Axes>"
      ]
     },
     "metadata": {
      "needs_background": "light"
     },
     "output_type": "display_data"
    }
   ],
   "source": [
    "#first situation, short allowed, no risk-free assets\n",
    "#sloving by optimize changing Rp\n",
    "returns = np.asmatrix(stock_returns).T\n",
    "cov = np.cov(returns)\n",
    "P = opt.matrix(cov)\n",
    "n = 50\n",
    "avg_ret = return_mean\n",
    "r_min = 0.0002\n",
    "mus = []\n",
    "for i in range(100):\n",
    "    r_min += 0.00001\n",
    "    mus.append(r_min)\n",
    "G = opt.matrix(-(np.array(avg_ret))).T\n",
    "print(G)\n",
    "q = opt.matrix(np.zeros((n, 1)))\n",
    "\n",
    "#h = opt.matrix(np.concatenate((-np.ones((1,1))*0.02,np.zeros((n,1))), 0))\n",
    "A = opt.matrix(1.0, (1,n))\n",
    "b = opt.matrix(1.0)\n",
    "opt.solvers.options['show_progress'] = False\n",
    "portfolio_weights = [solvers.qp(P, q, G,\n",
    "                                opt.matrix(-np.ones((1,1))*yy), \n",
    "                                A, b)['x'] for yy in mus]\n",
    "portfolio_returns = [(np.matrix(x).T * avg_ret)[0,0] for x in portfolio_weights]\n",
    "portfolio_stdvs = [np.sqrt(np.matrix(x).T * cov.T.dot(np.matrix(x)))[0,0] for x in portfolio_weights]\n",
    "plt.ylabel('mean')\n",
    "plt.xlabel('std')\n",
    "plt.plot(np.sort(portfolio_stdvs)[:40]*253, np.sort(portfolio_returns)[:40]*253, 'y-o')\n",
    "x1 = np.linspace(0,0.02,1000)\n",
    "slope1 = 0.03274562 #calculated in later part\n",
    "Rf_mean= np.mean(Rf)\n",
    "y1 = x1*slope1+Rf_mean\n",
    "x1 = [i*253 for i in x1]\n",
    "y1 = [i*253 for i in y1]\n",
    "#which is calculated in the part below, put it here to draw the two pictures together\n",
    "plt.ylabel('mean')\n",
    "plt.xlabel('std')\n",
    "plt.plot(x1,y1,label = 'CAPM')\n",
    "#changed the daily return to annual return\n",
    "ER_single =  20.492639010788864*0.01\n",
    "sigma_single =  221.8983674722968*0.01\n",
    "slope_single = (ER_single-Rf_mean*253)/sigma_single\n",
    "y2 = np.array(x1)*slope_single+Rf_mean*253\n",
    "plt.plot(x1,y2,color='r',label = 'single index')\n",
    "plt.scatter(221.8983674722968*0.01,20.492639010788864*0.01, s=50)\n",
    "plt.text(221.8983674722968*0.01,20.492639010788864*0.01,s ='single index with short' , va= 'bottom',fontsize=9)\n",
    "plt.legend(loc='upper center', shadow=True)"
   ]
  },
  {
   "cell_type": "code",
   "execution_count": 111,
   "metadata": {},
   "outputs": [
    {
     "data": {
      "text/plain": [
       "[<matplotlib.lines.Line2D at 0x1389ca320>]"
      ]
     },
     "execution_count": 111,
     "metadata": {},
     "output_type": "execute_result"
    },
    {
     "data": {
      "image/png": "[encoded data removed]",
      "text/plain": [
       "<Figure size 432x288 with 1 Axes>"
      ]
     },
     "metadata": {
      "needs_background": "light"
     },
     "output_type": "display_data"
    }
   ],
   "source": [
    "#third situation, short not allowed, no risk-free assets\n",
    "#sloving by optimize changing Rp\n",
    "returns = np.asmatrix(stock_returns).T\n",
    "cov = np.cov(returns)\n",
    "P = opt.matrix(cov)\n",
    "n = 50\n",
    "avg_ret = return_mean\n",
    "r_min = 0.0002\n",
    "mus = []\n",
    "for i in range(100):\n",
    "    r_min += 0.000003\n",
    "    mus.append(r_min)\n",
    "G = opt.matrix(np.concatenate((\n",
    "                -np.transpose(np.array(avg_ret)), \n",
    "                -np.identity(n)), 0))\n",
    "q = opt.matrix(np.zeros((n, 1)))\n",
    "#h = opt.matrix(np.concatenate((-np.ones((1,1))*0.02,np.zeros((n,1))), 0))\n",
    "A = opt.matrix(1.0, (1,n))\n",
    "b = opt.matrix(1.0)\n",
    "opt.solvers.options['show_progress'] = False\n",
    "portfolio_weights = [solvers.qp(P, q, G,\n",
    "                                opt.matrix(np.concatenate((-np.ones((1,1))*yy,np.zeros((n,1))), 0)), A, b)['x'] for yy in mus]\n",
    "portfolio_returns = [(np.matrix(x).T * avg_ret)[0,0] for x in portfolio_weights]\n",
    "portfolio_stdvs = [np.sqrt(np.matrix(x).T * cov.T.dot(np.matrix(x)))[0,0] for x in portfolio_weights]\n",
    "plt.ylabel('mean')\n",
    "plt.xlabel('std')\n",
    "x = [i*253 for i in portfolio_stdvs]\n",
    "y = [i*253 for i in portfolio_returns]\n",
    "plt.plot(x[:100],y[:100], 'y-o')"
   ]
  },
  {
   "cell_type": "code",
   "execution_count": 19,
   "metadata": {},
   "outputs": [],
   "source": [
    "#first situation, short allowed, no risk-free assets\n",
    "def optimal_portfolio(stock_returns):\n",
    "    returns = np.asmatrix(stock_returns).T\n",
    "    S = opt.matrix(np.cov(returns))\n",
    "    pbar = opt.matrix(return_mean)\n",
    "    N = 100\n",
    "    mus = [10**(5.0 * t/N - 1.0) for t in range(N)]\n",
    "    n=50\n",
    "    # Create constraint matrices\n",
    "    G = -opt.matrix(np.ones(n)).T  \n",
    "    # negative n x n identity matrix\n",
    "    h = opt.matrix(0.0, (1 ,1))\n",
    "    A = opt.matrix(1.0, (1, n))\n",
    "    b = opt.matrix(1.0)\n",
    "\n",
    "    # Calculate efficient frontier weights using quadratic programming\n",
    "    portfolios = [solvers.qp(mu*S, -pbar, G, h, A, b)['x'] \n",
    "          for mu in mus]\n",
    "    ## CALCULATE RISKS AND RETURNS FOR FRONTIER\n",
    "    returns2 = [blas.dot(pbar, x) for x in portfolios]\n",
    "    risks = [np.sqrt(blas.dot(x, S*x)) for x in portfolios]\n",
    "    ## CALCULATE THE 2ND DEGREE POLYNOMIAL OF THE FRONTIER CURVE\n",
    "    m1 = np.polyfit(returns2, risks, 2)\n",
    "    return returns2, risks,m1"
   ]
  },
  {
   "cell_type": "code",
   "execution_count": 20,
   "metadata": {},
   "outputs": [
    {
     "data": {
      "text/plain": [
       "[<matplotlib.lines.Line2D at 0x1317b6710>]"
      ]
     },
     "execution_count": 20,
     "metadata": {},
     "output_type": "execute_result"
    },
    {
     "data": {
      "image/png": "[encoded data removed]",
      "text/plain": [
       "<Figure size 432x288 with 1 Axes>"
      ]
     },
     "metadata": {
      "needs_background": "light"
     },
     "output_type": "display_data"
    }
   ],
   "source": [
    "returns1, risks1,func= optimal_portfolio(stock_returns)\n",
    "# plt.plot(stds, means, 'o')\n",
    "plt.ylabel('mean')\n",
    "plt.xlabel('std')\n",
    "x = [i*253 for i in risks1]\n",
    "y = [i*253 for i in returns1]\n",
    "plt.plot(x[:50], y[:50], 'y-o')\n"
   ]
  },
  {
   "cell_type": "code",
   "execution_count": 22,
   "metadata": {},
   "outputs": [
    {
     "name": "stdout",
     "output_type": "stream",
     "text": [
      "     Returns  Volatility  Sharpe Ratio\n",
      "32  0.000349    0.008403      0.032746\n"
     ]
    },
    {
     "data": {
      "text/plain": [
       "[<matplotlib.lines.Line2D at 0x1314593c8>]"
      ]
     },
     "execution_count": 22,
     "metadata": {},
     "output_type": "execute_result"
    },
    {
     "data": {
      "image/png": "[encoded data removed]",
      "text/plain": [
       "<Figure size 432x288 with 1 Axes>"
      ]
     },
     "metadata": {
      "needs_background": "light"
     },
     "output_type": "display_data"
    }
   ],
   "source": [
    "#second situation, short allowed, with risk-free assets\n",
    "Rf_mean= np.mean(Rf)\n",
    "sharpe1 = (returns1 - Rf_mean)/ risks1\n",
    "portfolio = {'Returns': returns1,\n",
    "             'Volatility':  risks1,\n",
    "             'Sharpe Ratio': sharpe1}\n",
    "df1 = pd.DataFrame(portfolio)\n",
    "max_sharpe = df1['Sharpe Ratio'].max()\n",
    "sharpe_portfolio = df1.loc[df1['Sharpe Ratio'] == max_sharpe]\n",
    "print(sharpe_portfolio)\n",
    "slope1 = (sharpe_portfolio['Returns'].values-Rf_mean)/sharpe_portfolio['Volatility'].values\n",
    "\n",
    "x1 = np.linspace(0,0.002,1000)\n",
    "y1 = x*slope1+Rf_mean\n",
    "plt.ylabel('mean')\n",
    "plt.xlabel('std')\n",
    "plt.plot(x,y)\n"
   ]
  },
  {
   "cell_type": "code",
   "execution_count": 152,
   "metadata": {},
   "outputs": [],
   "source": [
    "#third situation, short not allowed, no risk-free assets\n",
    "def optimal_portfolio2(stock_returns):\n",
    "    returns = np.asmatrix(stock_returns).T\n",
    "    S = opt.matrix(np.cov(returns))\n",
    "    pbar = opt.matrix(return_mean)\n",
    "    N = 100\n",
    "    mus = [10**(5.0 * t/N - 1.0) for t in range(N)]\n",
    "    # Create constraint matrices\n",
    "    G = -opt.matrix(np.identity(n))   # negative n x n identity matrix\n",
    "    h = opt.matrix(0.0, (n ,1))\n",
    "    A = opt.matrix(1.0, (1, n))\n",
    "    b = opt.matrix(1.0)\n",
    "\n",
    "    # Calculate efficient frontier weights using quadratic programming\n",
    "    portfolios = [solvers.qp(mu*S, -pbar, G, h, A, b)['x'] \n",
    "          for mu in mus]\n",
    "    ## CALCULATE RISKS AND RETURNS FOR FRONTIER\n",
    "    returns2 = [blas.dot(pbar, x) for x in portfolios]\n",
    "    risks = [np.sqrt(blas.dot(x, S*x)) for x in portfolios]\n",
    "    ## CALCULATE THE 2ND DEGREE POLYNOMIAL OF THE FRONTIER CURVE\n",
    "    m1 = np.polyfit(returns2, risks, 2)\n",
    "#     x1 = np.sqrt(m1[2] / m1[0])\n",
    "    # CALCULATE THE OPTIMAL PORTFOLIO\n",
    "#     wt = solvers.qp(opt.matrix(x1 * S), -pbar, G, h, A, b)['x']\n",
    "    return returns2, risks"
   ]
  },
  {
   "cell_type": "code",
   "execution_count": 160,
   "metadata": {},
   "outputs": [
    {
     "data": {
      "text/plain": [
       "[<matplotlib.lines.Line2D at 0x136a2fd68>]"
      ]
     },
     "execution_count": 160,
     "metadata": {},
     "output_type": "execute_result"
    },
    {
     "data": {
      "image/png": "[encoded data removed]",
      "text/plain": [
       "<Figure size 432x288 with 1 Axes>"
      ]
     },
     "metadata": {
      "needs_background": "light"
     },
     "output_type": "display_data"
    }
   ],
   "source": [
    "returns2, risks2 = optimal_portfolio2(stock_returns)\n",
    "plt.ylabel('mean')\n",
    "plt.xlabel('std')\n",
    "x = [i*253 for i in risks2]\n",
    "y = [i*253 for i in returns2]\n",
    "plt.plot(x[:100],y[:100], 'y-o')\n",
    "x4 = np.linspace(0,0.03,1000)\n",
    "slope = 0.03274529 #which is calculated in the part below, put it here to draw the two pictures together\n",
    "Rf_mean= np.mean(Rf)\n",
    "y4 = x4*slope+Rf_mean\n",
    "x4 = [i*253 for i in x4]\n",
    "y4 = [i*253 for i in y4]\n",
    "plt.plot(x4,y4,label = 'CAPM')"
   ]
  },
  {
   "cell_type": "code",
   "execution_count": 176,
   "metadata": {
    "scrolled": true
   },
   "outputs": [
    {
     "data": {
      "text/plain": [
       "<matplotlib.legend.Legend at 0x13aa5c780>"
      ]
     },
     "execution_count": 176,
     "metadata": {},
     "output_type": "execute_result"
    },
    {
     "data": {
      "image/png": "[encoded data removed]",
      "text/plain": [
       "<Figure size 432x288 with 1 Axes>"
      ]
     },
     "metadata": {
      "needs_background": "light"
     },
     "output_type": "display_data"
    }
   ],
   "source": [
    "returns2, risks2 = optimal_portfolio2(stock_returns)\n",
    "plt.ylabel('mean')\n",
    "plt.xlabel('std')\n",
    "x = [i*253 for i in risks2]\n",
    "y = [i*253 for i in returns2]\n",
    "plt.plot(x[:100],y[:100], 'y-o')\n",
    "x4 = np.linspace(0,0.03,1000)\n",
    "slope = 0.03274529 #which is calculated in the part below, put it here to draw the two pictures together\n",
    "Rf_mean= np.mean(Rf)\n",
    "y4 = x4*slope+Rf_mean\n",
    "x4 = [i*253 for i in x4]\n",
    "y4 = [i*253 for i in y4]\n",
    "plt.plot(x4,y4,label = 'CAPM')\n",
    "ER_single =  18.715403403443226*0.01\n",
    "sigma_single = 220.184786494889*0.01\n",
    "slope_single = (ER_single- Rf_mean*253)/sigma_single\n",
    "y2 = np.array(x1)*slope_single+Rf_mean*253\n",
    "plt.plot(x1,y2,color='r',label = 'single index')\n",
    "plt.scatter(220.184786494889*0.01,18.715403403443226*0.01, s=50)\n",
    "plt.text(220.184786494889*0.01,18.715403403443226*0.01,s ='single index without short' , va= 'bottom',fontsize=9)\n",
    "plt.legend(loc='upper center', shadow=True)"
   ]
  },
  {
   "cell_type": "code",
   "execution_count": 25,
   "metadata": {},
   "outputs": [
    {
     "name": "stdout",
     "output_type": "stream",
     "text": [
      "     Returns  Volatility  Sharpe Ratio\n",
      "32  0.000349    0.008405      0.032745\n",
      "[0.03274529]\n"
     ]
    },
    {
     "data": {
      "text/plain": [
       "[<matplotlib.lines.Line2D at 0x1315ea518>]"
      ]
     },
     "execution_count": 25,
     "metadata": {},
     "output_type": "execute_result"
    },
    {
     "data": {
      "image/png": "[encoded data removed]",
      "text/plain": [
       "<Figure size 432x288 with 1 Axes>"
      ]
     },
     "metadata": {
      "needs_background": "light"
     },
     "output_type": "display_data"
    }
   ],
   "source": [
    "#fourhh situation, short not allowed, with risk-free assets\n",
    "Rf_mean= np.mean(Rf)\n",
    "sharpe2 = (returns2 - Rf_mean)/ risks2\n",
    "portfolio = {'Returns': returns2,\n",
    "             'Volatility':  risks2,\n",
    "             'Sharpe Ratio': sharpe2}\n",
    "df2 = pd.DataFrame(portfolio)\n",
    "max_sharpe = df2['Sharpe Ratio'].max()\n",
    "sharpe_portfolio = df2.loc[df2['Sharpe Ratio'] == max_sharpe]\n",
    "print(sharpe_portfolio)\n",
    "slope = (sharpe_portfolio['Returns'].values-Rf_mean)/sharpe_portfolio['Volatility'].values\n",
    "print(slope)\n",
    "x = np.linspace(0,0.002,1000)\n",
    "y = x*slope+Rf_mean\n",
    "plt.ylabel('mean')\n",
    "plt.xlabel('std')\n",
    "x = [i*253 for i in x]\n",
    "y = [i*253 for i in y]\n",
    "plt.plot(x,y)"
   ]
  },
  {
   "cell_type": "markdown",
   "metadata": {},
   "source": [
    "# Using APT models for expected returns\n"
   ]
  },
  {
   "cell_type": "code",
   "execution_count": 26,
   "metadata": {},
   "outputs": [],
   "source": [
    "df_apt = pd.read_csv('PredictRi_APT.csv')"
   ]
  },
  {
   "cell_type": "code",
   "execution_count": 27,
   "metadata": {},
   "outputs": [],
   "source": [
    "df_apt = df_apt.dropna()"
   ]
  },
  {
   "cell_type": "code",
   "execution_count": 28,
   "metadata": {},
   "outputs": [
    {
     "name": "stdout",
     "output_type": "stream",
     "text": [
      "51\n"
     ]
    }
   ],
   "source": [
    "\n",
    "print(len(df_apt.columns))"
   ]
  },
  {
   "cell_type": "code",
   "execution_count": 37,
   "metadata": {},
   "outputs": [],
   "source": [
    "new_columns = df_apt.columns.values\n",
    "new_columns[0] = 'index1'\n",
    "df_apt.columns = new_columns\n",
    "df_apt1 = df_apt.set_index('index1')\n",
    "return_mean = np.array([np.mean(df_apt1).values])\n",
    "\n",
    "return_mean_apt = return_mean.T"
   ]
  },
  {
   "cell_type": "code",
   "execution_count": 38,
   "metadata": {},
   "outputs": [
    {
     "name": "stdout",
     "output_type": "stream",
     "text": [
      "50\n"
     ]
    }
   ],
   "source": [
    "print(len(return_mean_apt))"
   ]
  },
  {
   "cell_type": "code",
   "execution_count": 85,
   "metadata": {},
   "outputs": [],
   "source": [
    "#first situation, short allowed, no risk-free assets\n",
    "def optimal_portfolio3(stock_returns):\n",
    "    returns = np.asmatrix(stock_returns).T\n",
    "    S = opt.matrix(np.cov(returns))\n",
    "    pbar = opt.matrix(return_mean_apt)\n",
    "    N = 100\n",
    "    mus = [10**(5.0 * t/N - 1.0) for t in range(N)]\n",
    "    # Create constraint matrices\n",
    "    G = -opt.matrix(np.ones(n)).T  \n",
    "    # negative n x n identity matrix\n",
    "    h = opt.matrix(0.0, (1 ,1))\n",
    "    A = opt.matrix(1.0, (1, n))\n",
    "    b = opt.matrix(1.0)\n",
    "\n",
    "    # Calculate efficient frontier weights using quadratic programming\n",
    "    portfolios = [solvers.qp(mu*S, -pbar, G, h, A, b)['x'] \n",
    "          for mu in mus]\n",
    "    ## CALCULATE RISKS AND RETURNS FOR FRONTIER\n",
    "    returns = [blas.dot(pbar, x) for x in portfolios]\n",
    "    risks = [np.sqrt(blas.dot(x, S*x)) for x in portfolios]\n",
    "    ## CALCULATE THE 2ND DEGREE POLYNOMIAL OF THE FRONTIER CURVE\n",
    "    m1 = np.polyfit(returns, risks, 2)\n",
    "    return returns, risks"
   ]
  },
  {
   "cell_type": "code",
   "execution_count": 99,
   "metadata": {},
   "outputs": [
    {
     "data": {
      "text/plain": [
       "[<matplotlib.lines.Line2D at 0x138e3b940>]"
      ]
     },
     "execution_count": 99,
     "metadata": {},
     "output_type": "execute_result"
    },
    {
     "data": {
      "image/png": "[encoded data removed]",
      "text/plain": [
       "<Figure size 432x288 with 1 Axes>"
      ]
     },
     "metadata": {
      "needs_background": "light"
     },
     "output_type": "display_data"
    }
   ],
   "source": [
    "returns3, risks3= optimal_portfolio3(stock_returns)\n",
    "\n",
    "# plt.plot(stds, means, 'o')\n",
    "plt.ylabel('mean')\n",
    "plt.xlabel('std')\n",
    "returns3 = [i*253 for i in returns3]\n",
    "risks3 = [i*253 for i in risks3]\n",
    "plt.plot(np.sort(risks3)[:65],np.sort(returns3)[:65], 'y-o')\n",
    "# x = np.linspace(0,8,1000)\n",
    "# max_sharpe= 0.1855893721716131\n",
    "# Rf_mean= np.mean(Rf)\n",
    "# y = x*max_sharpe+Rf_mean\n",
    "# plt.ylabel('mean')\n",
    "# plt.xlabel('std')\n",
    "# plt.plot(x,y)"
   ]
  },
  {
   "cell_type": "code",
   "execution_count": 57,
   "metadata": {},
   "outputs": [
    {
     "name": "stdout",
     "output_type": "stream",
     "text": [
      "7.393663764882756e-05\n",
      "[0.18138803 0.18140545 0.18142496 0.1814468  0.18147123 0.18149856\n",
      " 0.18152912 0.18156326 0.18160141 0.181644   0.18169151 0.18174448\n",
      " 0.18180349 0.18186915 0.18194215 0.1820232  0.18211306 0.18221252\n",
      " 0.18232239 0.18244352 0.18257669 0.18272268 0.18288214 0.1830556\n",
      " 0.18324335 0.18344532 0.183661   0.18388924 0.184128   0.18437412\n",
      " 0.18462293 0.18486781 0.18509967 0.1853063  0.18547163 0.18557481\n",
      " 0.18558937 0.18548219 0.18521268 0.18473222 0.18398406 0.18290408\n",
      " 0.1814228  0.17946885 0.17697427 0.1738813  0.17015035 0.16576766\n",
      " 0.16075145 0.15515462 0.14906308 0.14258961 0.13586405 0.12902196\n",
      " 0.12219362 0.11549527 0.10902344 0.10285239 0.09703434 0.09160149\n",
      " 0.08656909 0.0819389  0.07770249 0.07384418 0.07034353 0.06717726\n",
      " 0.06432074 0.06174905 0.05943775 0.05736341 0.05550388 0.05383849\n",
      " 0.05234814 0.0510153  0.04982396 0.04875956 0.04780893 0.04696018\n",
      " 0.04620258 0.04552648 0.04492324 0.04438508 0.04390504 0.04347689\n",
      " 0.04309507 0.04275458 0.04245098 0.04218028 0.04193893 0.04172375\n",
      " 0.04153193 0.04136092 0.04120847 0.04107258 0.04095144 0.04084347\n",
      " 0.04074722 0.04066143 0.04058496 0.0405168 ]\n",
      "0.1855893721716131\n",
      "     Returns  Volatility  Sharpe Ratio\n",
      "36  0.005544    0.029472      0.185589\n",
      "0.1855893721716131\n"
     ]
    },
    {
     "data": {
      "text/plain": [
       "[<matplotlib.lines.Line2D at 0x136f0d9e8>]"
      ]
     },
     "execution_count": 57,
     "metadata": {},
     "output_type": "execute_result"
    },
    {
     "data": {
      "image/png": "[encoded data removed]",
      "text/plain": [
       "<Figure size 432x288 with 1 Axes>"
      ]
     },
     "metadata": {
      "needs_background": "light"
     },
     "output_type": "display_data"
    }
   ],
   "source": [
    "#second situation, short allowed, with risk-free assets\n",
    "Rf_mean= np.mean(Rf)\n",
    "print(Rf_mean)\n",
    "sharpe3 = (returns3 - Rf_mean)/ risks3\n",
    "print(sharpe3)\n",
    "portfolio = {'Returns': returns3,\n",
    "             'Volatility':  risks3,\n",
    "             'Sharpe Ratio': sharpe3}\n",
    "df3 = pd.DataFrame(portfolio)\n",
    "max_sharpe = df3['Sharpe Ratio'].max()\n",
    "print(max_sharpe)\n",
    "sharpe_portfolio = df3.loc[df3['Sharpe Ratio'] == max_sharpe]\n",
    "print(sharpe_portfolio)\n",
    "x = np.linspace(0,0.002,1000)\n",
    "y = x*max_sharpe+Rf_mean\n",
    "print(max_sharpe)\n",
    "plt.ylabel('mean')\n",
    "plt.xlabel('std')\n",
    "x = [i*253 for i in x]\n",
    "y = [i*253 for i in y]\n",
    "plt.plot(x,y)"
   ]
  },
  {
   "cell_type": "code",
   "execution_count": 61,
   "metadata": {},
   "outputs": [],
   "source": [
    "#third situation, short not allowed, no risk-free assets\n",
    "def optimal_portfolio2(stock_returns):\n",
    "    returns = np.asmatrix(stock_returns).T\n",
    "    S = opt.matrix(np.cov(returns))\n",
    "    pbar = opt.matrix(return_mean_apt)\n",
    "    N = 100\n",
    "    mus = [10**(5.0 * t/N - 1.0) for t in range(N)]\n",
    "    # Create constraint matrices\n",
    "    G = -opt.matrix(np.identity(n))   # negative n x n identity matrix\n",
    "    h = opt.matrix(0.0, (n ,1))\n",
    "    A = opt.matrix(1.0, (1, n))\n",
    "    b = opt.matrix(1.0)\n",
    "\n",
    "    # Calculate efficient frontier weights using quadratic programming\n",
    "    portfolios = [solvers.qp(mu*S, -pbar, G, h, A, b)['x'] \n",
    "          for mu in mus]\n",
    "    ## CALCULATE RISKS AND RETURNS FOR FRONTIER\n",
    "    returns2 = [blas.dot(pbar, x) for x in portfolios]\n",
    "    risks = [np.sqrt(blas.dot(x, S*x)) for x in portfolios]\n",
    "    ## CALCULATE THE 2ND DEGREE POLYNOMIAL OF THE FRONTIER CURVE\n",
    "    m1 = np.polyfit(returns2, risks, 2)\n",
    "#     x1 = np.sqrt(m1[2] / m1[0])\n",
    "    # CALCULATE THE OPTIMAL PORTFOLIO\n",
    "#     wt = solvers.qp(opt.matrix(x1 * S), -pbar, G, h, A, b)['x']\n",
    "    return returns2, risks"
   ]
  },
  {
   "cell_type": "code",
   "execution_count": 68,
   "metadata": {},
   "outputs": [
    {
     "data": {
      "text/plain": [
       "[<matplotlib.lines.Line2D at 0x1376c8470>]"
      ]
     },
     "execution_count": 68,
     "metadata": {},
     "output_type": "execute_result"
    },
    {
     "data": {
      "image/png": "[encoded data removed]",
      "text/plain": [
       "<Figure size 432x288 with 1 Axes>"
      ]
     },
     "metadata": {
      "needs_background": "light"
     },
     "output_type": "display_data"
    }
   ],
   "source": [
    "returns4, risks4 = optimal_portfolio2(stock_returns)\n",
    "plt.ylabel('mean')\n",
    "plt.xlabel('std')\n",
    "plt.xlabel('std')\n",
    "returns4 = [i*253 for i in returns4]\n",
    "risks4 = [i*253 for i in risks4]\n",
    "plt.plot(risks4,returns4, 'y-o')\n",
    "x = np.linspace(0,4,1000)\n",
    "slope = 0.11929257\n",
    "Rf_mean= np.mean(Rf)\n",
    "y = x*slope+Rf_mean\n",
    "plt.ylabel('mean')\n",
    "plt.xlabel('std')\n",
    "plt.plot(x,y)"
   ]
  },
  {
   "cell_type": "code",
   "execution_count": 69,
   "metadata": {},
   "outputs": [
    {
     "data": {
      "text/plain": [
       "[<matplotlib.lines.Line2D at 0x13778db38>]"
      ]
     },
     "execution_count": 69,
     "metadata": {},
     "output_type": "execute_result"
    },
    {
     "data": {
      "image/png": "[encoded data removed]",
      "text/plain": [
       "<Figure size 432x288 with 1 Axes>"
      ]
     },
     "metadata": {
      "needs_background": "light"
     },
     "output_type": "display_data"
    }
   ],
   "source": [
    "#fourth situation, short not allowed, with risk-free assets\n",
    "Rf_mean= np.mean(Rf)\n",
    "\n",
    "sharpe4 = (returns4 - Rf_mean)/ risks4\n",
    "portfolio = {'Returns': returns4,\n",
    "             'Volatility':  risks4,\n",
    "             'Sharpe Ratio': sharpe4}\n",
    "df4 = pd.DataFrame(portfolio)\n",
    "max_sharpe = df4['Sharpe Ratio'].max()\n",
    "sharpe_portfolio = df4.loc[df4['Sharpe Ratio'] == max_sharpe]\n",
    "slope = (sharpe_portfolio['Returns'].values-Rf_mean)/sharpe_portfolio['Volatility'].values\n",
    "x = np.linspace(0,0.002,1000)\n",
    "y = x*slope+Rf_mean\n",
    "plt.ylabel('mean')\n",
    "plt.xlabel('std')\n",
    "x = [i*253 for i in x]\n",
    "y = [i*253 for i in y]\n",
    "plt.plot(x,y)"
   ]
  },
  {
   "cell_type": "code",
   "execution_count": null,
   "metadata": {},
   "outputs": [],
   "source": []
  },
  {
   "cell_type": "code",
   "execution_count": null,
   "metadata": {},
   "outputs": [],
   "source": []
  }
 ],
 "metadata": {
  "kernelspec": {
   "display_name": "Python 3",
   "language": "python",
   "name": "python3"
  },
  "language_info": {
   "codemirror_mode": {
    "name": "ipython",
    "version": 3
   },
   "file_extension": ".py",
   "mimetype": "text/x-python",
   "name": "python",
   "nbconvert_exporter": "python",
   "pygments_lexer": "ipython3",
   "version": "3.7.2"
  }
 },
 "nbformat": 4,
 "nbformat_minor": 2
}
